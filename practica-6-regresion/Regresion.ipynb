{
 "cells": [
  {
   "cell_type": "markdown",
   "metadata": {},
   "source": [
    "# Práctica 6\n",
    "\n",
    "Ejercicio 1:"
   ]
  },
  {
   "cell_type": "markdown",
   "metadata": {},
   "source": [
    "1. Dados los datos siguientes, elegir las caracteristicas necesarias para ajustar una curva de regresión.\n",
    "|  x  |  y  |\n",
    "|-----|-----|\n",
    "| 0.1 |-0.01|\n",
    "|1.05 |0.978|\n",
    "|2.01 | 1.4 |\n",
    "|3.003|1.74 |\n",
    "|4.11 | 2.1 |\n",
    "|4.99 | 2.3 |\n",
    "|5.89 | 2.5 |\n",
    "\n",
    "    a) Gráficar los datos. ¿Qué tipo de curva $y=\\theta f(x)$ tiene un comportamiento semejante a la gráfica \n",
    "    obtenida? (e.g. exponencial, coseno, logaritmo, etc.)\n",
    "    \n",
    "    b) Generar nuevas caracteristicas $y=\\theta f(x)$ usando la $f(x)$ identificada anteriormente. Calcula los \n",
    "    valores correspondientes para las nuevas $x'$\n",
    "    \n",
    "    c) Gráficar los datos $(x',y)$ con las caracteristicas $x'$ elegidas.\n",
    "    \n",
    "    d) Ajustar el plano/recta en el espacio transformado $y$ vs $x'$ utilizando la ecuación normal \n",
    "    $\\theta=(X^T X)^{-1}X^T Y$.\n",
    "    \n",
    "    e) Calcular la expresión correspondiente en el espacio original (sustituir las $x'$ por la función que \n",
    "    representan $f(x)$).\n",
    "    \n",
    "    f) Gráficar la función ajustada en el espacio original $y$ vs $x$."
   ]
  },
  {
   "cell_type": "code",
   "execution_count": 1,
   "metadata": {},
   "outputs": [],
   "source": [
    "#Bibliotecas que les pueden ser útiles para el desarrollo de la práctica.\n",
    "\n",
    "import math\n",
    "import importlib\n",
    "%matplotlib inline\n",
    "import matplotlib.pyplot as plt\n",
    "\n",
    "import numpy as np\n",
    "import numpy.matlib as nmat\n",
    "from ipywidgets import interact, interactive, fixed, interact_manual\n",
    "from IPython.core.pylabtools import figsize\n",
    "import ipywidgets as widgets\n",
    "colores = [\"#BD3495\", \"#7EBD34\",\"#BD3450\"]\n",
    "from IPython.display import display\n",
    "from mpl_toolkits.mplot3d import Axes3D\n",
    "from matplotlib.patches import Ellipse\n",
    "import numpy.random as rnd\n",
    "from sympy import var\n",
    "from sympy.plotting import plot_implicit\n",
    "from IPython import display"
   ]
  },
  {
   "cell_type": "markdown",
   "metadata": {},
   "source": [
    "a) Gráficar los datos. ¿Qué tipo de curva $y=\\theta f(x)$ tiene un comportamiento semejante a la gráfica \n",
    "    obtenida? (e.g. exponencial, coseno, logaritmo, etc.)"
   ]
  },
  {
   "cell_type": "code",
   "execution_count": 2,
   "metadata": {},
   "outputs": [
    {
     "name": "stdout",
     "output_type": "stream",
     "text": [
      "X =  [[0.1  ]\n",
      " [1.05 ]\n",
      " [2.01 ]\n",
      " [3.003]\n",
      " [4.11 ]\n",
      " [4.99 ]\n",
      " [5.89 ]]\n",
      "Y =  [[-0.01 ]\n",
      " [ 0.978]\n",
      " [ 1.4  ]\n",
      " [ 1.74 ]\n",
      " [ 2.1  ]\n",
      " [ 2.3  ]\n",
      " [ 2.5  ]]\n"
     ]
    },
    {
     "data": {
      "text/plain": [
       "Text(0, 0.5, 'y')"
      ]
     },
     "execution_count": 2,
     "metadata": {},
     "output_type": "execute_result"
    },
    {
     "data": {
      "image/png": "[encoded data removed]",
      "text/plain": [
       "<Figure size 432x288 with 1 Axes>"
      ]
     },
     "metadata": {
      "needs_background": "light"
     },
     "output_type": "display_data"
    }
   ],
   "source": [
    "X = np.array([[0.1,1.05,2.01,3.003,4.11,4.99,5.89]]).T\n",
    "Y = np.array([[-0.01,0.978,1.4,1.74,2.1,2.3,2.5]]).T\n",
    "print('X = ',X)\n",
    "print('Y = ',Y)\n",
    "plt.scatter(X,Y,color=colores[0])\n",
    "plt.title('Espacio original y vs x')\n",
    "plt.xlabel('x')\n",
    "plt.ylabel('y')\n"
   ]
  },
  {
   "cell_type": "markdown",
   "metadata": {},
   "source": [
    "La curva $f(x)=\\sqrt{x}$ se comporta de manera semejante a la gráfica obtenida arriba."
   ]
  },
  {
   "cell_type": "markdown",
   "metadata": {},
   "source": [
    " b) Generar nuevas caracteristicas $y=\\theta f(x)$ usando la $f(x)$ identificada anteriormente. Calcula los \n",
    "    valores correspondientes para las nuevas $x'$\n",
    "    "
   ]
  },
  {
   "cell_type": "code",
   "execution_count": 3,
   "metadata": {},
   "outputs": [
    {
     "name": "stdout",
     "output_type": "stream",
     "text": [
      "X'= [[0.31622777]\n",
      " [1.02469508]\n",
      " [1.41774469]\n",
      " [1.73291662]\n",
      " [2.02731349]\n",
      " [2.23383079]\n",
      " [2.42693222]]\n"
     ]
    }
   ],
   "source": [
    "#Aplicar raiz cuadrada a cada elemento de X.\n",
    "X1 = np.sqrt(X)\n",
    "print(\"X'=\",X1)"
   ]
  },
  {
   "cell_type": "markdown",
   "metadata": {},
   "source": [
    " c) Gráficar los datos $(x',y)$ con las caracteristicas $x'$ elegidas."
   ]
  },
  {
   "cell_type": "code",
   "execution_count": 4,
   "metadata": {},
   "outputs": [
    {
     "data": {
      "text/plain": [
       "Text(0, 0.5, 'y')"
      ]
     },
     "execution_count": 4,
     "metadata": {},
     "output_type": "execute_result"
    },
    {
     "data": {
      "image/png": "[encoded data removed]",
      "text/plain": [
       "<Figure size 432x288 with 1 Axes>"
      ]
     },
     "metadata": {
      "needs_background": "light"
     },
     "output_type": "display_data"
    }
   ],
   "source": [
    "plt.scatter(X1,Y)\n",
    "plt.plot(X1,Y)\n",
    "plt.title(\"y vs x'\")\n",
    "plt.xlabel(\"x'\")\n",
    "plt.ylabel('y')"
   ]
  },
  {
   "cell_type": "markdown",
   "metadata": {},
   "source": [
    " d) Ajustar el plano/recta en el espacio transformado $y$ vs $x'$ utilizando la ecuación normal \n",
    "    $\\theta=(X^T X)^{-1}X^T Y$."
   ]
  },
  {
   "cell_type": "code",
   "execution_count": 5,
   "metadata": {},
   "outputs": [
    {
     "name": "stdout",
     "output_type": "stream",
     "text": [
      "MX =  [[1.         0.31622777]\n",
      " [1.         1.02469508]\n",
      " [1.         1.41774469]\n",
      " [1.         1.73291662]\n",
      " [1.         2.02731349]\n",
      " [1.         2.23383079]\n",
      " [1.         2.42693222]]\n",
      "theta_optima =  [[-0.30673127]\n",
      " [ 1.17670109]]\n"
     ]
    }
   ],
   "source": [
    "#EJERCICIO 1.D:\n",
    "#Creamos la matriz X\n",
    "MX = np.column_stack((np.array(nmat.ones(X.shape)),X1))\n",
    "print('MX = ',MX)\n",
    "#Calcular los Valores de theta optimos.\n",
    "theta = np.dot(np.linalg.inv(np.dot(MX.T,MX)),np.dot(MX.T,Y))\n",
    "print('theta_optima = ',theta)"
   ]
  },
  {
   "cell_type": "markdown",
   "metadata": {},
   "source": [
    "e) Calcular la expresión correspondiente en el espacio original (sustituir las $x'$ por la función que \n",
    "   representan $f(x)$).\n",
    "    $$y=\\theta_0 + \\theta_1 x'= -0.30673127 + 1.17670109\\sqrt{x}$$"
   ]
  },
  {
   "cell_type": "code",
   "execution_count": 6,
   "metadata": {},
   "outputs": [],
   "source": [
    "yf = np.array(-0.30673127 + 1.17670109*np.sqrt(X))"
   ]
  },
  {
   "cell_type": "markdown",
   "metadata": {},
   "source": [
    " f) Gráficar la función ajustada en el espacio original $y$ vs $x$."
   ]
  },
  {
   "cell_type": "code",
   "execution_count": 7,
   "metadata": {},
   "outputs": [
    {
     "data": {
      "text/plain": [
       "Text(0, 0.5, 'y')"
      ]
     },
     "execution_count": 7,
     "metadata": {},
     "output_type": "execute_result"
    },
    {
     "data": {
      "image/png": "[encoded data removed]",
      "text/plain": [
       "<Figure size 432x288 with 1 Axes>"
      ]
     },
     "metadata": {
      "needs_background": "light"
     },
     "output_type": "display_data"
    }
   ],
   "source": [
    "plt.scatter(X,Y,color=colores[0])\n",
    "plt.plot(X,yf,label=\"$y=-0.30673127 + 1.17670109\\sqrt{x}$\")\n",
    "plt.legend(loc=\"upper left\")\n",
    "plt.title('Espacio original y vs x')\n",
    "plt.xlabel('x')\n",
    "plt.ylabel('y')"
   ]
  },
  {
   "cell_type": "markdown",
   "metadata": {},
   "source": [
    "## 2 Clasificación.\n",
    "\n",
    "2. Entrene un clasificador utilizando descenso por el gradiente para detectar la frontera entre los datos siguientes.\n",
    "\n",
    "|       x       |       y       | clasificación |\n",
    "|---------------|---------------|---------------|\n",
    "| -0.6861007046 | -2.7317977268 |     FALSO     |\n",
    "|  0.1945728382 |  0.451296404  |   VERDADERO   |\n",
    "| -2.3158346172 | -0.6509207096 |     FALSO     |\n",
    "| -1.0254515503 | -0.0809364635 |   VERDADERO   |\n",
    "|  0.4311453719 |  0.8026880194 |   VERDADERO   |\n",
    "| -3.7719061095 |  0.814367149  |     FALSO     |\n",
    "|  0.8427785188 | -1.0716033783 |   VERDADERO   |\n",
    "|  2.2864584569 | -2.9176860601 |     FALSO     |\n",
    "| -0.2791914176 | -0.8346607406 |   VERDADERO   |\n",
    "| -0.9005654622 | -2.2787579969 |     FALSO     |\n",
    "|  0.1421184987 | -1.213108765  |   VERDADERO   |\n",
    "|  3.1509795878 | -3.7415509261 |     FALSO     |\n",
    "|  0.6174679771 | -0.5790232979 |   VERDADERO   |\n",
    "|  2.0068530366 | -1.4894149248 |     FALSO     |\n",
    "|  3.5943855252 | -0.8032932784 |     FALSO     |\n",
    "\n",
    "    a) Gráficar los datos.\n",
    "    \n",
    "    b) Listar características derivadas correspondientes a todos términos de un polinomio de segundo grado y \n",
    "    calcular sus valores.\n",
    "    \n",
    "    c) Ajustar el plano en el espacio transformado. Observe que no se pide gráficarlo pues este espacio tiene \n",
    "    demasiadas dimensiones.\n",
    "    \n",
    "    d) Calcular la expresión correspondiente en el espacio original.\n",
    "    \n",
    "    e) Gráficar la curva ajustada en el espacio original."
   ]
  },
  {
   "cell_type": "code",
   "execution_count": 8,
   "metadata": {},
   "outputs": [],
   "source": [
    "def plot_transformed(X, Y, Theta):\n",
    "    '''\n",
    "    Función auxiliar para visualizar la curva descrita por los pesos.\n",
    "    Parámetros:\n",
    "    X: Valores de entreada.\n",
    "    Y: Etiquetas de los valores.\n",
    "    Theta: Pesos actuales del entrenamiento.\n",
    "    '''\n",
    "    Theta = Theta.ravel()\n",
    "    print(\"Parámetros iniciales. Theta = \", Theta)\n",
    "    var('x y')\n",
    "    p = plot_implicit(Theta[0] + Theta[1] * x + Theta[2] * y + Theta[3] *x*y + Theta[4] * x**2 + Theta[5] * y**2, x, y,\n",
    "                      title = \"Frontera\", show=False)\n",
    "    p.show()\n",
    "    backend = p._backend\n",
    "    axes = backend.fig.get_axes()[0]\n",
    "    c = np.vectorize(lambda b: colores[b])(Y.ravel())\n",
    "    axes.scatter(X[:,0], X[:,1], color=c)\n",
    "    return backend.fig"
   ]
  },
  {
   "cell_type": "markdown",
   "metadata": {},
   "source": [
    "  a) Gráficar los datos."
   ]
  },
  {
   "cell_type": "code",
   "execution_count": 9,
   "metadata": {},
   "outputs": [
    {
     "name": "stdout",
     "output_type": "stream",
     "text": [
      "X|Y: [[-0.6861007  -2.73179773]\n",
      " [ 0.19457284  0.4512964 ]\n",
      " [-2.31583462 -0.65092071]\n",
      " [-1.02545155 -0.08093646]\n",
      " [ 0.43114537  0.80268802]\n",
      " [-3.77190611  0.81436715]\n",
      " [ 0.84277852 -1.07160338]\n",
      " [ 2.28645846 -2.91768606]\n",
      " [-0.27919142 -0.83466074]\n",
      " [-0.90056546 -2.278758  ]\n",
      " [ 0.1421185  -1.21310877]\n",
      " [ 3.15097959 -3.74155093]\n",
      " [ 0.61746798 -0.5790233 ]\n",
      " [ 2.00685304 -1.48941492]\n",
      " [ 3.59438553 -0.80329328]]\n"
     ]
    },
    {
     "data": {
      "text/plain": [
       "<matplotlib.lines.Line2D at 0x7f6467b161c0>"
      ]
     },
     "execution_count": 9,
     "metadata": {},
     "output_type": "execute_result"
    },
    {
     "data": {
      "image/png": "[encoded data removed]",
      "text/plain": [
       "<Figure size 432x288 with 1 Axes>"
      ]
     },
     "metadata": {
      "needs_background": "light"
     },
     "output_type": "display_data"
    }
   ],
   "source": [
    "x = np.array([[-0.6861007046,  0.1945728382, -2.3158346172, -1.0254515503,  0.4311453719, -3.7719061095,\n",
    "                0.8427785188,  2.2864584569, -0.2791914176, -0.9005654622,  0.1421184987,  3.1509795878,\n",
    "                0.6174679771,  2.0068530366,  3.5943855252]]).T\n",
    "y = np.array([[-2.7317977268,  0.4512964040, -0.6509207096, -0.0809364635,  0.8026880194,  0.8143671490,\n",
    "               -1.0716033783, -2.9176860601, -0.8346607406, -2.2787579969, -1.2131087650, -3.7415509261,\n",
    "               -0.5790232979, -1.4894149248, -0.8032932784]]).T\n",
    "X_org = np.column_stack((x,y))\n",
    "print(\"X|Y:\",X_org)\n",
    "Y_2 = np.array([[0,1,0,1,1,0,1,0,1,0,1,0,1,0,0]]).T\n",
    "c = np.vectorize(lambda b: colores[b])(Y_2.ravel())\n",
    "plt.scatter(X_org[:,0],X_org[:,1],color=c)\n",
    "plt.title(\"Datos de entrenamiento\")\n",
    "plt.xlabel(\"x\")\n",
    "plt.ylabel(\"y\")\n",
    "plt.axhline(y=0)\n",
    "plt.axvline(x=0)"
   ]
  },
  {
   "cell_type": "markdown",
   "metadata": {},
   "source": [
    " b) Listar características derivadas correspondientes a todos términos de un polinomio de segundo grado y \n",
    "    calcular sus valores.    "
   ]
  },
  {
   "cell_type": "markdown",
   "metadata": {},
   "source": [
    "$x_3 ' = xy,\\quad x_4 ' = x^{2},\\quad x_5 ' = y^{2}$"
   ]
  },
  {
   "cell_type": "code",
   "execution_count": 10,
   "metadata": {},
   "outputs": [
    {
     "name": "stdout",
     "output_type": "stream",
     "text": [
      "X3'= [[  1.87428835]\n",
      " [  0.08781002]\n",
      " [  1.50742471]\n",
      " [  0.08299642]\n",
      " [  0.34607522]\n",
      " [ -3.07171642]\n",
      " [ -0.90312431]\n",
      " [ -6.67116797]\n",
      " [  0.23303012]\n",
      " [  2.05217075]\n",
      " [ -0.1724052 ]\n",
      " [-11.78955059]\n",
      " [ -0.35752834]\n",
      " [ -2.98903686]\n",
      " [ -2.88734573]]\n",
      "X4'= [[ 0.47073418]\n",
      " [ 0.03785859]\n",
      " [ 5.36308997]\n",
      " [ 1.05155088]\n",
      " [ 0.18588633]\n",
      " [14.2272757 ]\n",
      " [ 0.71027563]\n",
      " [ 5.22789228]\n",
      " [ 0.07794785]\n",
      " [ 0.81101815]\n",
      " [ 0.02019767]\n",
      " [ 9.92867236]\n",
      " [ 0.3812667 ]\n",
      " [ 4.02745911]\n",
      " [12.9196073 ]]\n",
      "X5'= [[7.46271882e+00]\n",
      " [2.03668444e-01]\n",
      " [4.23697770e-01]\n",
      " [6.55071112e-03]\n",
      " [6.44308056e-01]\n",
      " [6.63193853e-01]\n",
      " [1.14833380e+00]\n",
      " [8.51289195e+00]\n",
      " [6.96658552e-01]\n",
      " [5.19273801e+00]\n",
      " [1.47163288e+00]\n",
      " [1.39992033e+01]\n",
      " [3.35267980e-01]\n",
      " [2.21835682e+00]\n",
      " [6.45280091e-01]]\n"
     ]
    }
   ],
   "source": [
    "X_3 = x*y\n",
    "X_4 = x**2\n",
    "X_5 = y**2\n",
    "print(\"X3'=\",X_3)\n",
    "print(\"X4'=\",X_4)\n",
    "print(\"X5'=\",X_5)"
   ]
  },
  {
   "cell_type": "markdown",
   "metadata": {},
   "source": [
    " c) Ajustar el plano en el espacio transformado. Observe que no se pide graficarlo pues este espacio tiene \n",
    "    demasiadas dimensiones."
   ]
  },
  {
   "cell_type": "code",
   "execution_count": 11,
   "metadata": {},
   "outputs": [
    {
     "name": "stdout",
     "output_type": "stream",
     "text": [
      "Theta = [[ 4.71931017]\n",
      " [ 2.78358693]\n",
      " [ 2.79497779]\n",
      " [ 1.90850559]\n",
      " [-0.81042441]\n",
      " [-0.22910544]]\n"
     ]
    },
    {
     "name": "stderr",
     "output_type": "stream",
     "text": [
      "/tmp/ipykernel_10604/3674635671.py:15: RuntimeWarning: divide by zero encountered in log\n",
      "  errores[i] = - np.sum(Y_2 * np.log(H) + (1 - Y_2) * np.log(1 - H))\n"
     ]
    },
    {
     "data": {
      "image/png": "[encoded data removed]",
      "text/plain": [
       "<Figure size 288x216 with 1 Axes>"
      ]
     },
     "metadata": {
      "needs_background": "light"
     },
     "output_type": "display_data"
    }
   ],
   "source": [
    "MatX = np.column_stack((np.ones((15,1)),X_org,X_3,X_4,X_5))\n",
    "\n",
    "def sigmoide(M):\n",
    "    return 1 / (1 + np.exp(-M))\n",
    "\n",
    "Theta = np.array([[1,2,3,4,5,6]]).T\n",
    "\n",
    "def descenso(iteraciones):\n",
    "    figsize(4,3)\n",
    "    global Theta\n",
    "    num_iter = iteraciones\n",
    "    errores = np.zeros(num_iter)\n",
    "    for i in range(0,num_iter):\n",
    "        H = sigmoide(np.dot(MatX,Theta))\n",
    "        errores[i] = - np.sum(Y_2 * np.log(H) + (1 - Y_2) * np.log(1 - H))\n",
    "        grad = np.dot(MatX.T, H-Y_2) / 6\n",
    "        Theta = Theta - 0.15 * grad\n",
    "    plt.scatter(np.arange(num_iter),errores)\n",
    "    plt.xlabel(\"Iteraciones\")\n",
    "    plt.ylabel(\"$J(\\Theta)$\")\n",
    "\n",
    "descenso(100)\n",
    "print(\"Theta =\", Theta)"
   ]
  },
  {
   "cell_type": "markdown",
   "metadata": {},
   "source": [
    "d) Calcular la expresión correspondiente en el espacio original."
   ]
  },
  {
   "cell_type": "markdown",
   "metadata": {},
   "source": [
    "$0 = \\theta_0 + \\theta_1 x_1 ' + \\theta_2  x_2 ' + \\theta_3 x_3 ' + \\theta_4 x_4 ' + \\theta_5 x_5 '$\n",
    "\n",
    "$0 = 4.71931017 + 2.78358693 x + 2.79497779  y + 1.90850559 xy + -0.81042441 x^{2} + -0.22910544 y^{2}$\n"
   ]
  },
  {
   "cell_type": "markdown",
   "metadata": {},
   "source": [
    "e) Gráficar la curva ajustada en el espacio original."
   ]
  },
  {
   "cell_type": "code",
   "execution_count": 12,
   "metadata": {},
   "outputs": [
    {
     "name": "stdout",
     "output_type": "stream",
     "text": [
      "Parámetros iniciales. Theta =  [ 4.71931017  2.78358693  2.79497779  1.90850559 -0.81042441 -0.22910544]\n"
     ]
    },
    {
     "data": {
      "image/png": "[encoded data removed]",
      "text/plain": [
       "<Figure size 288x216 with 1 Axes>"
      ]
     },
     "metadata": {
      "needs_background": "light"
     },
     "output_type": "display_data"
    },
    {
     "data": {
      "image/png": "[encoded data removed]",
      "text/plain": [
       "<Figure size 288x216 with 1 Axes>"
      ]
     },
     "execution_count": 12,
     "metadata": {},
     "output_type": "execute_result"
    }
   ],
   "source": [
    "plot_transformed(X_org,Y_2,Theta)"
   ]
  },
  {
   "cell_type": "code",
   "execution_count": null,
   "metadata": {},
   "outputs": [],
   "source": []
  }
 ],
 "metadata": {
  "kernelspec": {
   "display_name": "Python 3 (ipykernel)",
   "language": "python",
   "name": "python3"
  },
  "language_info": {
   "codemirror_mode": {
    "name": "ipython",
    "version": 3
   },
   "file_extension": ".py",
   "mimetype": "text/x-python",
   "name": "python",
   "nbconvert_exporter": "python",
   "pygments_lexer": "ipython3",
   "version": "3.8.10"
  }
 },
 "nbformat": 4,
 "nbformat_minor": 4
}
